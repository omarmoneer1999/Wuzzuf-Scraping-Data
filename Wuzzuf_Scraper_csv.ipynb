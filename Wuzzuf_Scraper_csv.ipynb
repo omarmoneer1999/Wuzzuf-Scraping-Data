{
 "cells": [
  {
   "cell_type": "code",
   "execution_count": 1,
   "id": "d63d85ad",
   "metadata": {},
   "outputs": [],
   "source": [
    "#Importing the required Libraries\n",
    "import pandas as pd\n",
    "from bs4 import BeautifulSoup as bs  \n",
    "from urllib.request import urlopen\n",
    "from requests_html import HTMLSession\n",
    "session = HTMLSession()"
   ]
  },
  {
   "cell_type": "code",
   "execution_count": 38,
   "id": "1b40e294",
   "metadata": {},
   "outputs": [
    {
     "name": "stdout",
     "output_type": "stream",
     "text": [
      "Enter the wanted job search page from Wuzzuf \n",
      "https://wuzzuf.net/search/jobs/?a=navbl&filters%5Bcareer_level%5D%5B0%5D=Entry%20Level&filters%5Bpost_date%5D%5B0%5D=within_1_month&q=mechanical%20Engineer\n"
     ]
    },
    {
     "data": {
      "text/plain": [
       "' 85'"
      ]
     },
     "execution_count": 38,
     "metadata": {},
     "output_type": "execute_result"
    }
   ],
   "source": [
    "#getting the number of pages to add it as the range to extract the information from the pages\n",
    "url= input(\"Enter the wanted job search page from Wuzzuf \\n\")\n",
    "client = session.get(url)\n",
    "# html = client.read()\n",
    "# client.close()\n",
    "soup=bs(client.content,'html.parser')\n",
    "number = soup.find('li',{\"class\":\"css-8neukt\"}).text[-3:]\n",
    "number"
   ]
  },
  {
   "cell_type": "code",
   "execution_count": 39,
   "id": "0d1ef05a",
   "metadata": {},
   "outputs": [
    {
     "data": {
      "text/plain": [
       "['ATA Electronics',\n",
       " 'Power House Egypt',\n",
       " 'Hyundai Rotem',\n",
       " 'Confidential',\n",
       " 'MB for Engineering',\n",
       " 'Dawlia',\n",
       " 'LEONI Wiring System Egypt S.A.E',\n",
       " 'LEONI Wiring System Egypt S.A.E',\n",
       " 'Delta Egypt For Lighting ',\n",
       " 'Confidential',\n",
       " 'Energya Cables',\n",
       " '3Brothers',\n",
       " ' Si-Vision',\n",
       " ' Si-Vision',\n",
       " 'Raya Distribution',\n",
       " 'Delta Egypt For Lighting ']"
      ]
     },
     "execution_count": 39,
     "metadata": {},
     "output_type": "execute_result"
    }
   ],
   "source": [
    "company = []\n",
    "job_title = []\n",
    "work_place = []\n",
    "work_type = []\n",
    "link = []\n",
    "experience = []\n",
    "adding_time = []\n",
    "for i in range(int(number)):\n",
    "    url=url+str(i)\n",
    "    client = session.get(url)\n",
    "#     html = client.read()\n",
    "#     client.close()\n",
    "    soup=bs(client.content,'html.parser')\n",
    "    containers = soup.find_all('div',{\"class\":\"css-1gatmva e1v1l3u10\"})\n",
    "    for container in containers:\n",
    "            jtitle = container.div.h2.text\n",
    "            job_title.append(jtitle)\n",
    "            \n",
    "            h = container.find('a',{'class':'css-17s97q8'}).text\n",
    "            h=h.split(\" -\")\n",
    "            company.append(h[0])\n",
    "            \n",
    "            place = container.span.text\n",
    "            work_place.append(place)\n",
    "            \n",
    "            w_type =container.find('span',{'class':'css-1ve4b75 eoyjyou0'}).text\n",
    "            work_type.append(w_type)\n",
    "            \n",
    "            link_con = container.find('h2',{'class':'css-m604qf'})\n",
    "            link_con =link_con.a.get('href')\n",
    "            link.append(\"https://wuzzuf.net/\"+link_con[1:])\n",
    "            \n",
    "            container2 = container.find('div',{'class',\"css-y4udm8\"})\n",
    "            exper = container2.find('a',{'class':'css-o171kl'})\n",
    "            exper =exper.text\n",
    "            experience.append(exper)\n",
    "            \n",
    "            add = container.select_one(\".css-4c4ojb, .css-do6t5g\").text\n",
    "            adding_time.append(add)\n",
    "company"
   ]
  },
  {
   "cell_type": "code",
   "execution_count": 40,
   "id": "80a92b4b",
   "metadata": {},
   "outputs": [
    {
     "data": {
      "text/plain": [
       "['13 days ago',\n",
       " '14 days ago',\n",
       " '14 days ago',\n",
       " '19 days ago',\n",
       " '2 days ago',\n",
       " '2 days ago',\n",
       " '16 days ago',\n",
       " '3 days ago',\n",
       " '9 days ago',\n",
       " '8 days ago',\n",
       " '17 days ago',\n",
       " '23 days ago',\n",
       " '25 days ago',\n",
       " '25 days ago',\n",
       " '3 days ago',\n",
       " '9 days ago']"
      ]
     },
     "execution_count": 40,
     "metadata": {},
     "output_type": "execute_result"
    }
   ],
   "source": [
    "adding_time"
   ]
  },
  {
   "cell_type": "code",
   "execution_count": 41,
   "id": "f5d16ec4",
   "metadata": {},
   "outputs": [],
   "source": [
    "# First way to save the data in CSV file \n",
    "df = pd.DataFrame()\n",
    "df['job_title'] = job_title\n",
    "df['adding_time'] = adding_time\n",
    "df['company_name'] = company\n",
    "df['work_type'] = work_type\n",
    "df['work_place'] = work_place\n",
    "df['link'] = link\n",
    "df['experience'] = experience\n",
    "df.to_csv('Search Result.csv', index=False)"
   ]
  },
  {
   "cell_type": "code",
   "execution_count": 31,
   "id": "22187246",
   "metadata": {},
   "outputs": [
    {
     "name": "stdout",
     "output_type": "stream",
     "text": [
      "<class 'pandas.core.frame.DataFrame'>\n",
      "RangeIndex: 28 entries, 0 to 27\n",
      "Data columns (total 6 columns):\n",
      " #   Column        Non-Null Count  Dtype \n",
      "---  ------        --------------  ----- \n",
      " 0   job_title     28 non-null     object\n",
      " 1   company_name  28 non-null     object\n",
      " 2   work_type     28 non-null     object\n",
      " 3   work_place    28 non-null     object\n",
      " 4   link          28 non-null     object\n",
      " 5   experience    28 non-null     object\n",
      "dtypes: object(6)\n",
      "memory usage: 1.4+ KB\n"
     ]
    }
   ],
   "source": [
    "df.info()"
   ]
  },
  {
   "cell_type": "code",
   "execution_count": 21,
   "id": "cdfe326c",
   "metadata": {},
   "outputs": [],
   "source": [
    "# Second way to save the data in CSV file\n",
    "from itertools import zip_longest\n",
    "import csv\n",
    "file_list = [job_title,company,work_type,work_place,link,experience]\n",
    "exported = zip_longest(*file_list)\n",
    "with open(r\"C:\\Users\\....\\jobs.csv\",\"w\", encoding=\"utf-8\") as myfile:\n",
    "    wr = csv.writer(myfile)\n",
    "    wr.writerow(['job_title','company_name','work_type','work_place','link','experience'])\n",
    "    wr.writerows(exported)"
   ]
  }
 ],
 "metadata": {
  "kernelspec": {
   "display_name": "Python 3 (ipykernel)",
   "language": "python",
   "name": "python3"
  },
  "language_info": {
   "codemirror_mode": {
    "name": "ipython",
    "version": 3
   },
   "file_extension": ".py",
   "mimetype": "text/x-python",
   "name": "python",
   "nbconvert_exporter": "python",
   "pygments_lexer": "ipython3",
   "version": "3.9.12"
  }
 },
 "nbformat": 4,
 "nbformat_minor": 5
}
